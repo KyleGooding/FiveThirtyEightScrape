{
 "cells": [
  {
   "cell_type": "code",
   "execution_count": 1,
   "id": "0841125e",
   "metadata": {},
   "outputs": [],
   "source": [
    "%run script.py"
   ]
  },
  {
   "cell_type": "code",
   "execution_count": 236,
   "id": "759bddfd",
   "metadata": {},
   "outputs": [
    {
     "name": "stdout",
     "output_type": "stream",
     "text": [
      "{'Week 14': [['Steelers', 3.5, 'Vikings', -3.5], ['Falcons', 6.5, 'Panthers', -6.5], ['Ravens', 0.5, 'Browns', -0.5], ['Cowboys', -0.5, 'Washington', 0.5], ['Jaguars', 14.5, 'Titans', -14.5], ['Saints', -3.0, 'Jets', 3.0], ['Raiders', 10.5, 'Chiefs', -10.5], ['Seahawks', -6.0, 'Texans', 6.0], ['Lions', 10.5, 'Broncos', -10.5], ['Giants', 7.5, 'Chargers', -7.5], ['Bills', 5.0, 'Buccaneers', -5.0], ['49ers', 1.0, 'Bengals', -1.0], ['Bears', 13.5, 'Packers', -13.5], ['Rams', 5.5, 'Cardinals', -5.5]], 'Week 15': [['Chiefs', -0.5, 'Chargers', 0.5], ['Raiders', 5.0, 'Browns', -5.0], ['Patriots', 0, 'Colts', 0], ['Cardinals', -12.0, 'Lions', 12.0], ['Panthers', 7.5, 'Bills', -7.5], ['Cowboys', -2.5, 'Giants', 2.5], ['Texans', 2.0, 'Jaguars', -2.0], ['Jets', 13.0, 'Dolphins', -13.0], ['Titans', -0.5, 'Steelers', 0.5], ['Washington', 3.5, 'Eagles', -3.5], ['Falcons', 9.0, '49ers', -9.0], ['Bengals', 1.5, 'Broncos', -1.5], ['Packers', -1.0, 'Ravens', 1.0], ['Seahawks', 5.5, 'Rams', -5.5], ['Saints', 11.0, 'Buccaneers', -11.0], ['Vikings', -2.5, 'Bears', 2.5]], 'Week 16': [['49ers', 3.0, 'Titans', -3.0], ['Browns', 8.0, 'Packers', -8.0], ['Colts', 5.0, 'Cardinals', -5.0], ['Ravens', -0.5, 'Bengals', 0.5], ['Bills', 4.0, 'Patriots', -4.0], ['Lions', 6.0, 'Falcons', -6.0], ['Jaguars', 3.5, 'Jets', -3.5], ['Chargers', -9.0, 'Texans', 9.0], ['Rams', 0, 'Vikings', 0], ['Giants', 4.5, 'Eagles', -4.5], ['Buccaneers', -5.5, 'Panthers', 5.5], ['Bears', 6.5, 'Seahawks', -6.5], ['Broncos', 0.5, 'Raiders', -0.5], ['Steelers', 9.0, 'Chiefs', -9.0], ['Washington', 5.5, 'Cowboys', -5.5], ['Dolphins', -2.0, 'Saints', 2.0]], 'Week 17': [['Cardinals', -1.0, 'Cowboys', 1.0], ['Falcons', 11.0, 'Bills', -11.0], ['Panthers', 1.5, 'Saints', -1.5], ['Jaguars', 17.5, 'Patriots', -17.5], ['Chiefs', -3.0, 'Bengals', 3.0], ['Dolphins', 2.5, 'Titans', -2.5], ['Giants', 0.5, 'Bears', -0.5], ['Raiders', 8.5, 'Colts', -8.5], ['Eagles', 2.0, 'Washington', -2.0], ['Buccaneers', -12.0, 'Jets', 12.0], ['Broncos', 6.0, 'Chargers', -6.0], ['Texans', 12.5, '49ers', -12.5], ['Lions', 11.0, 'Seahawks', -11.0], ['Rams', 3.0, 'Ravens', -3.0], ['Vikings', 8.0, 'Packers', -8.0], ['Browns', 1.0, 'Steelers', -1.0]], 'Week 18': [['Panthers', 10.0, 'Buccaneers', -10.0], ['Bears', 7.0, 'Vikings', -7.0], ['Bengals', 2.5, 'Browns', -2.5], ['Cowboys', -0.5, 'Eagles', 0.5], ['Packers', -12.5, 'Lions', 12.5], ['Colts', -10.5, 'Jaguars', 10.5], ['Patriots', -1.5, 'Dolphins', 1.5], ['Saints', 0, 'Falcons', 0], ['Jets', 14.0, 'Bills', -14.0], ['Steelers', 6.5, 'Ravens', -6.5], ['Titans', -8.0, 'Texans', 8.0], ['Washington', 0, 'Giants', 0], ['Chiefs', -4.0, 'Broncos', 4.0], ['Chargers', -3.0, 'Raiders', 3.0], ['Seahawks', 8.5, 'Cardinals', -8.5], ['49ers', 3.5, 'Rams', -3.5]], 'Week 13': [], 'Week 12': [], 'Week 11': [], 'Week 10': [], 'Week 9': [], 'Week 8': [], 'Week 7': [], 'Week 6': [], 'Week 5': [], 'Week 4': [], 'Week 3': [], 'Week 2': [], 'Week 1': []}\n"
     ]
    }
   ],
   "source": [
    "print(game_weeks)"
   ]
  },
  {
   "cell_type": "code",
   "execution_count": 237,
   "id": "503e6039",
   "metadata": {},
   "outputs": [
    {
     "name": "stdout",
     "output_type": "stream",
     "text": [
      "{'Week 14': [['Steelers', 3.5], ['Vikings', -3.5], ['Falcons', 6.5], ['Panthers', -6.5], ['Ravens', 0.5], ['Browns', -0.5], ['Cowboys', -0.5], ['Washington', 0.5], ['Jaguars', 14.5], ['Titans', -14.5], ['Saints', -3.0], ['Jets', 3.0], ['Raiders', 10.5], ['Chiefs', -10.5], ['Seahawks', -6.0], ['Texans', 6.0], ['Lions', 10.5], ['Broncos', -10.5], ['Giants', 7.5], ['Chargers', -7.5], ['Bills', 5.0], ['Buccaneers', -5.0], ['49ers', 1.0], ['Bengals', -1.0], ['Bears', 13.5], ['Packers', -13.5], ['Rams', 5.5], ['Cardinals', -5.5]], 'Week 15': [['Chiefs', -0.5], ['Chargers', 0.5], ['Raiders', 5.0], ['Browns', -5.0], ['Patriots', 0], ['Colts', 0], ['Cardinals', -12.0], ['Lions', 12.0], ['Panthers', 7.5], ['Bills', -7.5], ['Cowboys', -2.5], ['Giants', 2.5], ['Texans', 2.0], ['Jaguars', -2.0], ['Jets', 13.0], ['Dolphins', -13.0], ['Titans', -0.5], ['Steelers', 0.5], ['Washington', 3.5], ['Eagles', -3.5], ['Falcons', 9.0], ['49ers', -9.0], ['Bengals', 1.5], ['Broncos', -1.5], ['Packers', -1.0], ['Ravens', 1.0], ['Seahawks', 5.5], ['Rams', -5.5], ['Saints', 11.0], ['Buccaneers', -11.0], ['Vikings', -2.5], ['Bears', 2.5]], 'Week 16': [['49ers', 3.0], ['Titans', -3.0], ['Browns', 8.0], ['Packers', -8.0], ['Colts', 5.0], ['Cardinals', -5.0], ['Ravens', -0.5], ['Bengals', 0.5], ['Bills', 4.0], ['Patriots', -4.0], ['Lions', 6.0], ['Falcons', -6.0], ['Jaguars', 3.5], ['Jets', -3.5], ['Chargers', -9.0], ['Texans', 9.0], ['Rams', 0], ['Vikings', 0], ['Giants', 4.5], ['Eagles', -4.5], ['Buccaneers', -5.5], ['Panthers', 5.5], ['Bears', 6.5], ['Seahawks', -6.5], ['Broncos', 0.5], ['Raiders', -0.5], ['Steelers', 9.0], ['Chiefs', -9.0], ['Washington', 5.5], ['Cowboys', -5.5], ['Dolphins', -2.0], ['Saints', 2.0]], 'Week 17': [['Cardinals', -1.0], ['Cowboys', 1.0], ['Falcons', 11.0], ['Bills', -11.0], ['Panthers', 1.5], ['Saints', -1.5], ['Jaguars', 17.5], ['Patriots', -17.5], ['Chiefs', -3.0], ['Bengals', 3.0], ['Dolphins', 2.5], ['Titans', -2.5], ['Giants', 0.5], ['Bears', -0.5], ['Raiders', 8.5], ['Colts', -8.5], ['Eagles', 2.0], ['Washington', -2.0], ['Buccaneers', -12.0], ['Jets', 12.0], ['Broncos', 6.0], ['Chargers', -6.0], ['Texans', 12.5], ['49ers', -12.5], ['Lions', 11.0], ['Seahawks', -11.0], ['Rams', 3.0], ['Ravens', -3.0], ['Vikings', 8.0], ['Packers', -8.0], ['Browns', 1.0], ['Steelers', -1.0]], 'Week 18': [['Panthers', 10.0], ['Buccaneers', -10.0], ['Bears', 7.0], ['Vikings', -7.0], ['Bengals', 2.5], ['Browns', -2.5], ['Cowboys', -0.5], ['Eagles', 0.5], ['Packers', -12.5], ['Lions', 12.5], ['Colts', -10.5], ['Jaguars', 10.5], ['Patriots', -1.5], ['Dolphins', 1.5], ['Saints', 0], ['Falcons', 0], ['Jets', 14.0], ['Bills', -14.0], ['Steelers', 6.5], ['Ravens', -6.5], ['Titans', -8.0], ['Texans', 8.0], ['Washington', 0], ['Giants', 0], ['Chiefs', -4.0], ['Broncos', 4.0], ['Chargers', -3.0], ['Raiders', 3.0], ['Seahawks', 8.5], ['Cardinals', -8.5], ['49ers', 3.5], ['Rams', -3.5]]}\n"
     ]
    }
   ],
   "source": [
    "print(team_spreads_weekly)"
   ]
  },
  {
   "cell_type": "code",
   "execution_count": 238,
   "id": "4121ee1e",
   "metadata": {},
   "outputs": [
    {
     "name": "stdout",
     "output_type": "stream",
     "text": [
      "{'49ers': [1.0, -9.0, 3.0, -12.5, 3.5], 'Bears': [13.5, 2.5, 6.5, -0.5, 7.0], 'Bengals': [-1.0, 1.5, 0.5, 3.0, 2.5], 'Bills': [5.0, -7.5, 4.0, -11.0, -14.0], 'Broncos': [-10.5, -1.5, 0.5, 6.0, 4.0], 'Browns': [-0.5, -5.0, 8.0, 1.0, -2.5], 'Buccaneers': [-5.0, -11.0, -5.5, -12.0, -10.0], 'Cardinals': [-5.5, -12.0, -5.0, -1.0, -8.5], 'Chargers': [-7.5, 0.5, -9.0, -6.0, -3.0], 'Chiefs': [-10.5, -0.5, -9.0, -3.0, -4.0], 'Colts': [999, 0, 5.0, -8.5, -10.5], 'Cowboys': [-0.5, -2.5, -5.5, 1.0, -0.5], 'Dolphins': [999, -13.0, -2.0, 2.5, 1.5], 'Eagles': [999, -3.5, -4.5, 2.0, 0.5], 'Falcons': [6.5, 9.0, -6.0, 11.0, 0], 'Giants': [7.5, 2.5, 4.5, 0.5, 0], 'Jaguars': [14.5, -2.0, 3.5, 17.5, 10.5], 'Jets': [3.0, 13.0, -3.5, 12.0, 14.0], 'Lions': [10.5, 12.0, 6.0, 11.0, 12.5], 'Packers': [-13.5, -1.0, -8.0, -8.0, -12.5], 'Panthers': [-6.5, 7.5, 5.5, 1.5, 10.0], 'Patriots': [999, 0, -4.0, -17.5, -1.5], 'Raiders': [10.5, 5.0, -0.5, 8.5, 3.0], 'Rams': [5.5, -5.5, 0, 3.0, -3.5], 'Ravens': [0.5, 1.0, -0.5, -3.0, -6.5], 'Saints': [-3.0, 11.0, 2.0, -1.5, 0], 'Seahawks': [-6.0, 5.5, -6.5, -11.0, 8.5], 'Steelers': [3.5, 0.5, 9.0, -1.0, 6.5], 'Texans': [6.0, 2.0, 9.0, 12.5, 8.0], 'Titans': [-14.5, -0.5, -3.0, -2.5, -8.0], 'Vikings': [-3.5, -2.5, 0, 8.0, -7.0], 'Washington': [0.5, 3.5, 5.5, -2.0, 0]}\n",
      "dict_keys(['Week 14', 'Week 15', 'Week 16', 'Week 17', 'Week 18'])\n"
     ]
    }
   ],
   "source": [
    "print(weekly_spreads_per_team)\n",
    "print(team_spreads_weekly.keys())"
   ]
  },
  {
   "cell_type": "code",
   "execution_count": 213,
   "id": "49250992",
   "metadata": {},
   "outputs": [
    {
     "name": "stdout",
     "output_type": "stream",
     "text": [
      "['teams:', 'Week 14', 'Week 15', 'Week 16', 'Week 17', 'Week 18']\n"
     ]
    }
   ],
   "source": [
    "print(fields)"
   ]
  }
 ],
 "metadata": {
  "kernelspec": {
   "display_name": "Python 3 (ipykernel)",
   "language": "python",
   "name": "python3"
  },
  "language_info": {
   "codemirror_mode": {
    "name": "ipython",
    "version": 3
   },
   "file_extension": ".py",
   "mimetype": "text/x-python",
   "name": "python",
   "nbconvert_exporter": "python",
   "pygments_lexer": "ipython3",
   "version": "3.7.3"
  }
 },
 "nbformat": 4,
 "nbformat_minor": 5
}
