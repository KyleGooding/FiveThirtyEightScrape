{
 "cells": [
  {
   "cell_type": "code",
   "execution_count": 2,
   "id": "0841125e",
   "metadata": {},
   "outputs": [],
   "source": [
    "%run script.py"
   ]
  },
  {
   "cell_type": "code",
   "execution_count": 3,
   "id": "759bddfd",
   "metadata": {},
   "outputs": [
    {
     "name": "stdout",
     "output_type": "stream",
     "text": [
      "{'Week 1': [['Bills', 1.0, 'Rams', -1.0], ['Ravens', -3.5, 'Jets', 3.5], ['Browns', 2.0, 'Panthers', -2.0], ['Colts', -5.0, 'Texans', 5.0], ['Jaguars', 5.5, 'Commanders', -5.5], ['Patriots', 2.5, 'Dolphins', -2.5], ['Saints', -4.0, 'Falcons', 4.0], ['Eagles', -2.5, 'Lions', 2.5], ['Steelers', 5.0, 'Bengals', -5.0], ['49ers', -3.5, 'Bears', 3.5], ['Packers', -1.0, 'Vikings', 1.0], ['Chiefs', -2.0, 'Cardinals', 2.0], ['Giants', 5.5, 'Titans', -5.5], ['Raiders', 4.0, 'Chargers', -4.0], ['Buccaneers', 0, 'Cowboys', 0], ['Broncos', -2.0, 'Seahawks', 2.0]], 'Week 2': [['Chargers', 4.0, 'Chiefs', -4.0], ['Panthers', 3.0, 'Giants', -3.0], ['Colts', -3.5, 'Jaguars', 3.5], ['Dolphins', 3.0, 'Ravens', -3.0], ['Patriots', 0.5, 'Steelers', -0.5], ['Jets', 2.0, 'Browns', -2.0], ['Buccaneers', -1.5, 'Saints', 1.5], ['Commanders', -0.5, 'Lions', 0.5], ['Falcons', 11.0, 'Rams', -11.0], ['Seahawks', 7.5, '49ers', -7.5], ['Cardinals', 2.0, 'Raiders', -2.0], ['Bengals', 2.0, 'Cowboys', -2.0], ['Texans', 8.5, 'Broncos', -8.5], ['Bears', 9.5, 'Packers', -9.5], ['Titans', 6.0, 'Bills', -6.0], ['Vikings', 2.5, 'Eagles', -2.5]], 'Week 3': [['Steelers', -0.5, 'Browns', 0.5], ['Ravens', 1.0, 'Patriots', -1.0], ['Bills', -2.0, 'Dolphins', 2.0], ['Bengals', -3.5, 'Jets', 3.5], ['Lions', 6.5, 'Vikings', -6.5], ['Texans', 4.0, 'Bears', -4.0], ['Chiefs', -0.5, 'Colts', 0.5], ['Saints', -2.5, 'Panthers', 2.5], ['Raiders', 3.0, 'Titans', -3.0], ['Eagles', -0.5, 'Commanders', 0.5], ['Jaguars', 8.5, 'Chargers', -8.5], ['Falcons', 4.5, 'Seahawks', -4.5], ['Packers', 2.0, 'Buccaneers', -2.0], ['Rams', -1.5, 'Cardinals', 1.5], ['49ers', 1.0, 'Broncos', -1.0], ['Cowboys', -2.5, 'Giants', 2.5]], 'Week 4': [['Dolphins', 3.5, 'Bengals', -3.5], ['Vikings', -0.5, 'Saints', 0.5], ['Bills', -1.0, 'Ravens', 1.0], ['Bears', 3.0, 'Giants', -3.0], ['Browns', 0.5, 'Falcons', -0.5], ['Jaguars', 7.5, 'Eagles', -7.5], ['Chargers', -5.0, 'Texans', 5.0], ['Jets', 4.5, 'Steelers', -4.5], ['Seahawks', 2.0, 'Lions', -2.0], ['Titans', 2.5, 'Colts', -2.5], ['Commanders', 5.5, 'Cowboys', -5.5], ['Cardinals', -1.5, 'Panthers', 1.5], ['Broncos', 1.0, 'Raiders', -1.0], ['Patriots', 5.5, 'Packers', -5.5], ['Chiefs', 2.5, 'Buccaneers', -2.5], ['Rams', 0.5, '49ers', -0.5]], 'Week 5': [['Colts', 1.5, 'Broncos', -1.5], ['Giants', 6.5, 'Packers', -6.5], ['Falcons', 11.5, 'Buccaneers', -11.5], ['Bears', 7.0, 'Vikings', -7.0], ['Lions', 6.0, 'Patriots', -6.0], ['Texans', 3.5, 'Jaguars', -3.5], ['Chargers', -3.0, 'Browns', 3.0], ['Dolphins', -2.5, 'Jets', 2.5], ['Steelers', 8.0, 'Bills', -8.0], ['Seahawks', 6.0, 'Saints', -6.0], ['Titans', 0.5, 'Commanders', -0.5], ['49ers', -3.5, 'Panthers', 3.5], ['Cowboys', 3.5, 'Rams', -3.5], ['Eagles', 1.0, 'Cardinals', -1.0], ['Bengals', 1.5, 'Ravens', -1.5], ['Raiders', 6.5, 'Chiefs', -6.5]], 'Week 6': [['Commanders', -0.5, 'Bears', 0.5], ['Ravens', -2.5, 'Giants', 2.5], ['Bengals', 0.5, 'Saints', -0.5], ['Jaguars', 8.0, 'Colts', -8.0], ['Vikings', 1.5, 'Dolphins', -1.5], ['Patriots', -2.0, 'Browns', 2.0], ['Jets', 10.5, 'Packers', -10.5], ['49ers', -5.5, 'Falcons', 5.5], ['Buccaneers', -3.0, 'Steelers', 3.0], ['Cardinals', -1.0, 'Seahawks', 1.0], ['Panthers', 9.5, 'Rams', -9.5], ['Bills', 1.0, 'Chiefs', -1.0], ['Cowboys', 1.0, 'Eagles', -1.0], ['Broncos', 3.0, 'Chargers', -3.0]], 'Week 7': [['Saints', 1.5, 'Cardinals', -1.5], ['Falcons', 9.5, 'Bengals', -9.5], ['Browns', 7.5, 'Ravens', -7.5], ['Lions', 7.0, 'Cowboys', -7.0], ['Packers', -3.0, 'Commanders', 3.0], ['Colts', 2.5, 'Titans', -2.5], ['Giants', 0.5, 'Jaguars', -0.5], ['Buccaneers', -6.0, 'Panthers', 6.0], ['Texans', 7.5, 'Raiders', -7.5], ['Jets', 8.0, 'Broncos', -8.0], ['Chiefs', 0.5, '49ers', -0.5], ['Seahawks', 7.0, 'Chargers', -7.0], ['Steelers', 4.0, 'Dolphins', -4.0], ['Bears', 6.0, 'Patriots', -6.0]], 'Week 8': [['Ravens', 4.5, 'Buccaneers', -4.5], ['Broncos', -5.5, 'Jaguars', 5.5], ['Cardinals', 4.5, 'Vikings', -4.5], ['Panthers', 0.5, 'Falcons', -0.5], ['Bears', 8.0, 'Cowboys', -8.0], ['Dolphins', -2.0, 'Lions', 2.0], ['Patriots', -3.5, 'Jets', 3.5], ['Raiders', 3.0, 'Saints', -3.0], ['Steelers', 5.5, 'Eagles', -5.5], ['Titans', -4.5, 'Texans', 4.5], ['Giants', 2.0, 'Seahawks', -2.0], ['49ers', 4.0, 'Rams', -4.0], ['Commanders', 4.5, 'Colts', -4.5], ['Packers', 4.0, 'Bills', -4.0], ['Bengals', -3.5, 'Browns', 3.5]], 'Week 9': [['Eagles', -4.5, 'Texans', 4.5], ['Bills', -7.5, 'Jets', 7.5], ['Panthers', 8.0, 'Bengals', -8.0], ['Packers', -5.5, 'Lions', 5.5], ['Colts', 1.0, 'Patriots', -1.0], ['Chargers', -6.0, 'Falcons', 6.0], ['Dolphins', -2.0, 'Bears', 2.0], ['Vikings', 0, 'Commanders', 0], ['Raiders', -2.0, 'Jaguars', 2.0], ['Seahawks', 5.0, 'Cardinals', -5.0], ['Rams', 3.0, 'Buccaneers', -3.0], ['Titans', 6.0, 'Chiefs', -6.0], ['Ravens', 1.0, 'Saints', -1.0]], 'Week 10': [['Falcons', 3.5, 'Panthers', -3.5], ['Seahawks', 7.5, 'Buccaneers', -7.5], ['Browns', 5.5, 'Dolphins', -5.5], ['Broncos', 1.0, 'Titans', -1.0], ['Lions', 2.0, 'Bears', -2.0], ['Texans', 6.0, 'Giants', -6.0], ['Jaguars', 10.5, 'Chiefs', -10.5], ['Vikings', 6.0, 'Bills', -6.0], ['Saints', 1.5, 'Steelers', -1.5], ['Colts', 0.5, 'Raiders', -0.5], ['Cardinals', 5.5, 'Rams', -5.5], ['Cowboys', 3.0, 'Packers', -3.0], ['Chargers', 3.5, '49ers', -3.5], ['Commanders', 4.0, 'Eagles', -4.0]], 'Week 11': [['Titans', 5.5, 'Packers', -5.5], ['Panthers', 8.5, 'Ravens', -8.5], ['Bears', 0.5, 'Falcons', -0.5], ['Browns', 10.5, 'Bills', -10.5], ['Lions', 3.0, 'Giants', -3.0], ['Rams', -0.5, 'Saints', 0.5], ['Jets', 7.0, 'Patriots', -7.0], ['Eagles', 2.5, 'Colts', -2.5], ['Commanders', -2.5, 'Texans', 2.5], ['Raiders', 3.5, 'Broncos', -3.5], ['Cowboys', 1.0, 'Vikings', -1.0], ['Chiefs', 0, 'Chargers', 0], ['Bengals', -2.0, 'Steelers', 2.0], ['49ers', -2.5, 'Cardinals', 2.5]], 'Week 12': [['Bills', -6.5, 'Lions', 6.5], ['Giants', 7.0, 'Cowboys', -7.0], ['Patriots', 2.5, 'Vikings', -2.5], ['Falcons', 6.5, 'Commanders', -6.5], ['Ravens', -3.0, 'Jaguars', 3.0], ['Bears', 1.0, 'Jets', -1.0], ['Bengals', 0.5, 'Titans', -0.5], ['Broncos', -2.5, 'Panthers', 2.5], ['Texans', 9.5, 'Dolphins', -9.5], ['Buccaneers', -2.0, 'Browns', 2.0], ['Chargers', 0, 'Cardinals', 0], ['Raiders', 0, 'Seahawks', 0], ['Rams', 2.5, 'Chiefs', -2.5], ['Saints', 4.0, '49ers', -4.0], ['Packers', -0.5, 'Eagles', 0.5], ['Steelers', 4.5, 'Colts', -4.5]], 'Week 13': [['Bills', -2.5, 'Patriots', 2.5], ['Browns', -4.0, 'Texans', 4.0], ['Broncos', 3.0, 'Ravens', -3.0], ['Packers', -5.5, 'Bears', 5.5], ['Jaguars', 3.0, 'Lions', -3.0], ['Jets', 8.0, 'Vikings', -8.0], ['Steelers', -2.5, 'Falcons', 2.5], ['Titans', 2.5, 'Eagles', -2.5], ['Commanders', 0.5, 'Giants', -0.5], ['Dolphins', 4.0, '49ers', -4.0], ['Seahawks', 8.5, 'Rams', -8.5], ['Chiefs', 0, 'Bengals', 0], ['Chargers', 0, 'Raiders', 0], ['Colts', 3.0, 'Cowboys', -3.0], ['Saints', 5.5, 'Buccaneers', -5.5]], 'Week 14': [['Raiders', 5.5, 'Rams', -5.5], ['Ravens', -0.5, 'Steelers', 0.5], ['Browns', 3.5, 'Bengals', -3.5], ['Texans', 9.5, 'Cowboys', -9.5], ['Jaguars', 7.0, 'Titans', -7.0], ['Vikings', -2.5, 'Lions', 2.5], ['Jets', 11.5, 'Bills', -11.5], ['Eagles', -2.0, 'Giants', 2.0], ['Dolphins', 3.5, 'Chargers', -3.5], ['Panthers', 2.0, 'Seahawks', -2.0], ['Buccaneers', 0.5, '49ers', -0.5], ['Chiefs', -1.0, 'Broncos', 1.0], ['Patriots', 2.5, 'Cardinals', -2.5]], 'Week 15': [['49ers', -3.5, 'Seahawks', 3.5], ['Falcons', 8.0, 'Saints', -8.0], ['Ravens', 1.0, 'Browns', -1.0], ['Colts', 0.5, 'Vikings', -0.5], ['Dolphins', 6.5, 'Bills', -6.5], ['Giants', 4.5, 'Commanders', -4.5], ['Cowboys', -4.5, 'Jaguars', 4.5], ['Lions', 1.0, 'Jets', -1.0], ['Chiefs', -7.5, 'Texans', 7.5], ['Eagles', -2.0, 'Bears', 2.0], ['Steelers', -0.5, 'Panthers', 0.5], ['Cardinals', 3.0, 'Broncos', -3.0], ['Bengals', 4.0, 'Buccaneers', -4.0], ['Titans', 3.5, 'Chargers', -3.5], ['Patriots', 1.5, 'Raiders', -1.5], ['Rams', 4.0, 'Packers', -4.0]], 'Week 16': [['Jaguars', 1.5, 'Jets', -1.5], ['Falcons', 9.0, 'Ravens', -9.0], ['Bills', -6.5, 'Bears', 6.5], ['Bengals', 0.5, 'Patriots', -0.5], ['Lions', 2.0, 'Panthers', -2.0], ['Texans', 8.5, 'Titans', -8.5], ['Saints', 2.0, 'Browns', -2.0], ['Giants', 6.0, 'Vikings', -6.0], ['Seahawks', 9.5, 'Chiefs', -9.5], ['Commanders', 5.5, '49ers', -5.5], ['Eagles', 3.0, 'Cowboys', -3.0], ['Raiders', 1.5, 'Steelers', -1.5], ['Packers', -1.0, 'Dolphins', 1.0], ['Broncos', 4.5, 'Rams', -4.5], ['Buccaneers', -2.0, 'Cardinals', 2.0], ['Chargers', 2.0, 'Colts', -2.0]], 'Week 17': [['Cowboys', 0.5, 'Titans', -0.5], ['Cardinals', -3.0, 'Falcons', 3.0], ['Panthers', 10.0, 'Buccaneers', -10.0], ['Bears', 2.0, 'Lions', -2.0], ['Browns', 0, 'Commanders', 0], ['Broncos', 5.0, 'Chiefs', -5.0], ['Colts', -2.0, 'Giants', 2.0], ['Jaguars', 1.0, 'Texans', -1.0], ['Dolphins', 2.0, 'Patriots', -2.0], ['Saints', 2.5, 'Eagles', -2.5], ['Steelers', 4.5, 'Ravens', -4.5], ['Jets', 4.0, 'Seahawks', -4.0], ['49ers', -0.5, 'Raiders', 0.5], ['Vikings', 5.0, 'Packers', -5.0], ['Rams', 0.5, 'Chargers', -0.5], ['Bills', -0.5, 'Bengals', 0.5]], 'Week 18': [['Cardinals', 4.5, '49ers', -4.5], ['Ravens', 2.5, 'Bengals', -2.5], ['Panthers', 6.5, 'Saints', -6.5], ['Browns', 0, 'Steelers', 0], ['Cowboys', -1.0, 'Commanders', 1.0], ['Lions', 9.5, 'Packers', -9.5], ['Texans', 9.0, 'Colts', -9.0], ['Chiefs', -2.0, 'Raiders', 2.0], ['Chargers', 1.0, 'Broncos', -1.0], ['Rams', -4.5, 'Seahawks', 4.5], ['Vikings', -2.5, 'Bears', 2.5], ['Patriots', 6.5, 'Bills', -6.5], ['Giants', 6.0, 'Eagles', -6.0], ['Jets', 7.5, 'Dolphins', -7.5], ['Buccaneers', -7.5, 'Falcons', 7.5], ['Titans', -3.0, 'Jaguars', 3.0]]}\n"
     ]
    }
   ],
   "source": [
    "print(game_weeks)"
   ]
  },
  {
   "cell_type": "code",
   "execution_count": 237,
   "id": "503e6039",
   "metadata": {},
   "outputs": [
    {
     "name": "stdout",
     "output_type": "stream",
     "text": [
      "{'Week 14': [['Steelers', 3.5], ['Vikings', -3.5], ['Falcons', 6.5], ['Panthers', -6.5], ['Ravens', 0.5], ['Browns', -0.5], ['Cowboys', -0.5], ['Washington', 0.5], ['Jaguars', 14.5], ['Titans', -14.5], ['Saints', -3.0], ['Jets', 3.0], ['Raiders', 10.5], ['Chiefs', -10.5], ['Seahawks', -6.0], ['Texans', 6.0], ['Lions', 10.5], ['Broncos', -10.5], ['Giants', 7.5], ['Chargers', -7.5], ['Bills', 5.0], ['Buccaneers', -5.0], ['49ers', 1.0], ['Bengals', -1.0], ['Bears', 13.5], ['Packers', -13.5], ['Rams', 5.5], ['Cardinals', -5.5]], 'Week 15': [['Chiefs', -0.5], ['Chargers', 0.5], ['Raiders', 5.0], ['Browns', -5.0], ['Patriots', 0], ['Colts', 0], ['Cardinals', -12.0], ['Lions', 12.0], ['Panthers', 7.5], ['Bills', -7.5], ['Cowboys', -2.5], ['Giants', 2.5], ['Texans', 2.0], ['Jaguars', -2.0], ['Jets', 13.0], ['Dolphins', -13.0], ['Titans', -0.5], ['Steelers', 0.5], ['Washington', 3.5], ['Eagles', -3.5], ['Falcons', 9.0], ['49ers', -9.0], ['Bengals', 1.5], ['Broncos', -1.5], ['Packers', -1.0], ['Ravens', 1.0], ['Seahawks', 5.5], ['Rams', -5.5], ['Saints', 11.0], ['Buccaneers', -11.0], ['Vikings', -2.5], ['Bears', 2.5]], 'Week 16': [['49ers', 3.0], ['Titans', -3.0], ['Browns', 8.0], ['Packers', -8.0], ['Colts', 5.0], ['Cardinals', -5.0], ['Ravens', -0.5], ['Bengals', 0.5], ['Bills', 4.0], ['Patriots', -4.0], ['Lions', 6.0], ['Falcons', -6.0], ['Jaguars', 3.5], ['Jets', -3.5], ['Chargers', -9.0], ['Texans', 9.0], ['Rams', 0], ['Vikings', 0], ['Giants', 4.5], ['Eagles', -4.5], ['Buccaneers', -5.5], ['Panthers', 5.5], ['Bears', 6.5], ['Seahawks', -6.5], ['Broncos', 0.5], ['Raiders', -0.5], ['Steelers', 9.0], ['Chiefs', -9.0], ['Washington', 5.5], ['Cowboys', -5.5], ['Dolphins', -2.0], ['Saints', 2.0]], 'Week 17': [['Cardinals', -1.0], ['Cowboys', 1.0], ['Falcons', 11.0], ['Bills', -11.0], ['Panthers', 1.5], ['Saints', -1.5], ['Jaguars', 17.5], ['Patriots', -17.5], ['Chiefs', -3.0], ['Bengals', 3.0], ['Dolphins', 2.5], ['Titans', -2.5], ['Giants', 0.5], ['Bears', -0.5], ['Raiders', 8.5], ['Colts', -8.5], ['Eagles', 2.0], ['Washington', -2.0], ['Buccaneers', -12.0], ['Jets', 12.0], ['Broncos', 6.0], ['Chargers', -6.0], ['Texans', 12.5], ['49ers', -12.5], ['Lions', 11.0], ['Seahawks', -11.0], ['Rams', 3.0], ['Ravens', -3.0], ['Vikings', 8.0], ['Packers', -8.0], ['Browns', 1.0], ['Steelers', -1.0]], 'Week 18': [['Panthers', 10.0], ['Buccaneers', -10.0], ['Bears', 7.0], ['Vikings', -7.0], ['Bengals', 2.5], ['Browns', -2.5], ['Cowboys', -0.5], ['Eagles', 0.5], ['Packers', -12.5], ['Lions', 12.5], ['Colts', -10.5], ['Jaguars', 10.5], ['Patriots', -1.5], ['Dolphins', 1.5], ['Saints', 0], ['Falcons', 0], ['Jets', 14.0], ['Bills', -14.0], ['Steelers', 6.5], ['Ravens', -6.5], ['Titans', -8.0], ['Texans', 8.0], ['Washington', 0], ['Giants', 0], ['Chiefs', -4.0], ['Broncos', 4.0], ['Chargers', -3.0], ['Raiders', 3.0], ['Seahawks', 8.5], ['Cardinals', -8.5], ['49ers', 3.5], ['Rams', -3.5]]}\n"
     ]
    }
   ],
   "source": [
    "print(team_spreads_weekly)"
   ]
  },
  {
   "cell_type": "code",
   "execution_count": 238,
   "id": "4121ee1e",
   "metadata": {},
   "outputs": [
    {
     "name": "stdout",
     "output_type": "stream",
     "text": [
      "{'49ers': [1.0, -9.0, 3.0, -12.5, 3.5], 'Bears': [13.5, 2.5, 6.5, -0.5, 7.0], 'Bengals': [-1.0, 1.5, 0.5, 3.0, 2.5], 'Bills': [5.0, -7.5, 4.0, -11.0, -14.0], 'Broncos': [-10.5, -1.5, 0.5, 6.0, 4.0], 'Browns': [-0.5, -5.0, 8.0, 1.0, -2.5], 'Buccaneers': [-5.0, -11.0, -5.5, -12.0, -10.0], 'Cardinals': [-5.5, -12.0, -5.0, -1.0, -8.5], 'Chargers': [-7.5, 0.5, -9.0, -6.0, -3.0], 'Chiefs': [-10.5, -0.5, -9.0, -3.0, -4.0], 'Colts': [999, 0, 5.0, -8.5, -10.5], 'Cowboys': [-0.5, -2.5, -5.5, 1.0, -0.5], 'Dolphins': [999, -13.0, -2.0, 2.5, 1.5], 'Eagles': [999, -3.5, -4.5, 2.0, 0.5], 'Falcons': [6.5, 9.0, -6.0, 11.0, 0], 'Giants': [7.5, 2.5, 4.5, 0.5, 0], 'Jaguars': [14.5, -2.0, 3.5, 17.5, 10.5], 'Jets': [3.0, 13.0, -3.5, 12.0, 14.0], 'Lions': [10.5, 12.0, 6.0, 11.0, 12.5], 'Packers': [-13.5, -1.0, -8.0, -8.0, -12.5], 'Panthers': [-6.5, 7.5, 5.5, 1.5, 10.0], 'Patriots': [999, 0, -4.0, -17.5, -1.5], 'Raiders': [10.5, 5.0, -0.5, 8.5, 3.0], 'Rams': [5.5, -5.5, 0, 3.0, -3.5], 'Ravens': [0.5, 1.0, -0.5, -3.0, -6.5], 'Saints': [-3.0, 11.0, 2.0, -1.5, 0], 'Seahawks': [-6.0, 5.5, -6.5, -11.0, 8.5], 'Steelers': [3.5, 0.5, 9.0, -1.0, 6.5], 'Texans': [6.0, 2.0, 9.0, 12.5, 8.0], 'Titans': [-14.5, -0.5, -3.0, -2.5, -8.0], 'Vikings': [-3.5, -2.5, 0, 8.0, -7.0], 'Washington': [0.5, 3.5, 5.5, -2.0, 0]}\n",
      "dict_keys(['Week 14', 'Week 15', 'Week 16', 'Week 17', 'Week 18'])\n"
     ]
    }
   ],
   "source": [
    "print(weekly_spreads_per_team)\n",
    "print(team_spreads_weekly.keys())"
   ]
  },
  {
   "cell_type": "code",
   "execution_count": 213,
   "id": "49250992",
   "metadata": {},
   "outputs": [
    {
     "name": "stdout",
     "output_type": "stream",
     "text": [
      "['teams:', 'Week 14', 'Week 15', 'Week 16', 'Week 17', 'Week 18']\n"
     ]
    }
   ],
   "source": [
    "print(fields)"
   ]
  }
 ],
 "metadata": {
  "kernelspec": {
   "display_name": "Python 3 (ipykernel)",
   "language": "python",
   "name": "python3"
  },
  "language_info": {
   "codemirror_mode": {
    "name": "ipython",
    "version": 3
   },
   "file_extension": ".py",
   "mimetype": "text/x-python",
   "name": "python",
   "nbconvert_exporter": "python",
   "pygments_lexer": "ipython3",
   "version": "3.9.12"
  }
 },
 "nbformat": 4,
 "nbformat_minor": 5
}
